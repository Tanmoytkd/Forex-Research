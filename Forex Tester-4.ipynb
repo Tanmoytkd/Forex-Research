{
 "cells": [
  {
   "cell_type": "code",
   "execution_count": 1,
   "metadata": {},
   "outputs": [
    {
     "name": "stdout",
     "output_type": "stream",
     "text": [
      "Requirement already satisfied: sqlalchemy in c:\\users\\user\\.conda\\envs\\py3-tf2\\lib\\site-packages (1.3.1)\n",
      "Requirement already satisfied: mysqlclient in c:\\users\\user\\.conda\\envs\\py3-tf2\\lib\\site-packages (1.4.4)\n"
     ]
    }
   ],
   "source": [
    "!pip install sqlalchemy\n",
    "!pip install mysqlclient"
   ]
  },
  {
   "cell_type": "code",
   "execution_count": 2,
   "metadata": {},
   "outputs": [
    {
     "name": "stdout",
     "output_type": "stream",
     "text": [
      "2.0.0-rc0\n"
     ]
    }
   ],
   "source": [
    "import tensorflow as tf\n",
    "print(tf.__version__)"
   ]
  },
  {
   "cell_type": "code",
   "execution_count": 3,
   "metadata": {},
   "outputs": [],
   "source": [
    "import sqlalchemy as db2\n",
    "engine = db2.create_engine('mysql://root@localhost/forex')\n",
    "connection = engine.connect()\n",
    "metadata = db2.MetaData()\n",
    "renko = db2.Table('renko', metadata, autoload=True, autoload_with=engine)\n",
    "state_table = db2.Table('state', metadata, autoload=True, autoload_with=engine)\n",
    "price = db2.Table('price', metadata, autoload=True, autoload_with=engine)\n",
    "# print(price.columns.keys())"
   ]
  },
  {
   "cell_type": "code",
   "execution_count": 4,
   "metadata": {},
   "outputs": [
    {
     "name": "stdout",
     "output_type": "stream",
     "text": [
      "<mysql.connector.connection.MySQLConnection object at 0x0000013FDAE76048>\n"
     ]
    }
   ],
   "source": [
    "import mysql.connector\n",
    "\n",
    "db = mysql.connector.connect(\n",
    "    host=\"localhost\",\n",
    "    user=\"root\",\n",
    "    passwd=\"\",\n",
    "    database=\"forex\"\n",
    ")\n",
    "\n",
    "print(db) "
   ]
  },
  {
   "cell_type": "code",
   "execution_count": 5,
   "metadata": {},
   "outputs": [],
   "source": [
    "def ask_user(msg):\n",
    "    print(msg)\n",
    "    response = ''\n",
    "    while response.lower() not in {\"yes\", \"no\"}:\n",
    "        response = input(\"Please enter yes or no: \")\n",
    "    return response.lower() == \"yes\""
   ]
  },
  {
   "cell_type": "code",
   "execution_count": 21,
   "metadata": {},
   "outputs": [
    {
     "data": {
      "text/html": [
       "<div>\n",
       "<style scoped>\n",
       "    .dataframe tbody tr th:only-of-type {\n",
       "        vertical-align: middle;\n",
       "    }\n",
       "\n",
       "    .dataframe tbody tr th {\n",
       "        vertical-align: top;\n",
       "    }\n",
       "\n",
       "    .dataframe thead th {\n",
       "        text-align: right;\n",
       "    }\n",
       "</style>\n",
       "<table border=\"1\" class=\"dataframe\">\n",
       "  <thead>\n",
       "    <tr style=\"text-align: right;\">\n",
       "      <th></th>\n",
       "      <th>id</th>\n",
       "      <th>direction</th>\n",
       "      <th>start_price</th>\n",
       "      <th>close_price</th>\n",
       "      <th>start_time</th>\n",
       "      <th>close_time</th>\n",
       "      <th>decision</th>\n",
       "    </tr>\n",
       "  </thead>\n",
       "  <tbody>\n",
       "    <tr>\n",
       "      <th>0</th>\n",
       "      <td>1</td>\n",
       "      <td>up</td>\n",
       "      <td>1.29368</td>\n",
       "      <td>1.29618</td>\n",
       "      <td>2012-01-01 22:00:36</td>\n",
       "      <td>2012-01-02 09:01:53</td>\n",
       "      <td>up</td>\n",
       "    </tr>\n",
       "    <tr>\n",
       "      <th>1</th>\n",
       "      <td>2</td>\n",
       "      <td>down</td>\n",
       "      <td>1.29618</td>\n",
       "      <td>1.29368</td>\n",
       "      <td>2012-01-02 09:01:53</td>\n",
       "      <td>2012-01-02 12:50:54</td>\n",
       "      <td>up</td>\n",
       "    </tr>\n",
       "    <tr>\n",
       "      <th>2</th>\n",
       "      <td>3</td>\n",
       "      <td>up</td>\n",
       "      <td>1.29368</td>\n",
       "      <td>1.29618</td>\n",
       "      <td>2012-01-02 12:50:54</td>\n",
       "      <td>2012-01-03 01:15:38</td>\n",
       "      <td>up</td>\n",
       "    </tr>\n",
       "    <tr>\n",
       "      <th>3</th>\n",
       "      <td>4</td>\n",
       "      <td>up</td>\n",
       "      <td>1.29618</td>\n",
       "      <td>1.29868</td>\n",
       "      <td>2012-01-03 01:15:38</td>\n",
       "      <td>2012-01-03 02:08:58</td>\n",
       "      <td>up</td>\n",
       "    </tr>\n",
       "    <tr>\n",
       "      <th>4</th>\n",
       "      <td>5</td>\n",
       "      <td>up</td>\n",
       "      <td>1.29868</td>\n",
       "      <td>1.30118</td>\n",
       "      <td>2012-01-03 02:08:58</td>\n",
       "      <td>2012-01-03 09:53:28</td>\n",
       "      <td>up</td>\n",
       "    </tr>\n",
       "    <tr>\n",
       "      <th>5</th>\n",
       "      <td>6</td>\n",
       "      <td>up</td>\n",
       "      <td>1.30118</td>\n",
       "      <td>1.30368</td>\n",
       "      <td>2012-01-03 09:53:28</td>\n",
       "      <td>2012-01-03 10:10:06</td>\n",
       "      <td>down</td>\n",
       "    </tr>\n",
       "    <tr>\n",
       "      <th>6</th>\n",
       "      <td>7</td>\n",
       "      <td>down</td>\n",
       "      <td>1.30368</td>\n",
       "      <td>1.30118</td>\n",
       "      <td>2012-01-03 10:10:06</td>\n",
       "      <td>2012-01-03 13:13:42</td>\n",
       "      <td>up</td>\n",
       "    </tr>\n",
       "    <tr>\n",
       "      <th>7</th>\n",
       "      <td>8</td>\n",
       "      <td>up</td>\n",
       "      <td>1.30118</td>\n",
       "      <td>1.30368</td>\n",
       "      <td>2012-01-03 13:13:42</td>\n",
       "      <td>2012-01-03 14:07:47</td>\n",
       "      <td>down</td>\n",
       "    </tr>\n",
       "    <tr>\n",
       "      <th>8</th>\n",
       "      <td>9</td>\n",
       "      <td>up</td>\n",
       "      <td>1.30368</td>\n",
       "      <td>1.30618</td>\n",
       "      <td>2012-01-03 14:07:47</td>\n",
       "      <td>2012-01-03 15:21:09</td>\n",
       "      <td>down</td>\n",
       "    </tr>\n",
       "    <tr>\n",
       "      <th>9</th>\n",
       "      <td>10</td>\n",
       "      <td>down</td>\n",
       "      <td>1.30618</td>\n",
       "      <td>1.30368</td>\n",
       "      <td>2012-01-03 15:21:09</td>\n",
       "      <td>2012-01-04 02:34:40</td>\n",
       "      <td>down</td>\n",
       "    </tr>\n",
       "  </tbody>\n",
       "</table>\n",
       "</div>"
      ],
      "text/plain": [
       "   id direction  start_price  close_price          start_time  \\\n",
       "0   1        up      1.29368      1.29618 2012-01-01 22:00:36   \n",
       "1   2      down      1.29618      1.29368 2012-01-02 09:01:53   \n",
       "2   3        up      1.29368      1.29618 2012-01-02 12:50:54   \n",
       "3   4        up      1.29618      1.29868 2012-01-03 01:15:38   \n",
       "4   5        up      1.29868      1.30118 2012-01-03 02:08:58   \n",
       "5   6        up      1.30118      1.30368 2012-01-03 09:53:28   \n",
       "6   7      down      1.30368      1.30118 2012-01-03 10:10:06   \n",
       "7   8        up      1.30118      1.30368 2012-01-03 13:13:42   \n",
       "8   9        up      1.30368      1.30618 2012-01-03 14:07:47   \n",
       "9  10      down      1.30618      1.30368 2012-01-03 15:21:09   \n",
       "\n",
       "           close_time decision  \n",
       "0 2012-01-02 09:01:53       up  \n",
       "1 2012-01-02 12:50:54       up  \n",
       "2 2012-01-03 01:15:38       up  \n",
       "3 2012-01-03 02:08:58       up  \n",
       "4 2012-01-03 09:53:28       up  \n",
       "5 2012-01-03 10:10:06     down  \n",
       "6 2012-01-03 13:13:42       up  \n",
       "7 2012-01-03 14:07:47     down  \n",
       "8 2012-01-03 15:21:09     down  \n",
       "9 2012-01-04 02:34:40     down  "
      ]
     },
     "execution_count": 21,
     "metadata": {},
     "output_type": "execute_result"
    }
   ],
   "source": [
    "import sys\n",
    "import numpy as np\n",
    "import pandas as pd\n",
    "\n",
    "dt = {'id': np.int64, 'direction': str, 'start_price': np.float64, 'close_price': np.float64, 'decision': str }\n",
    "parse_dates = ['start_time', 'close_time']\n",
    "\n",
    "renkodf = pd.read_csv(r'renko25.csv', dtype=dt, parse_dates=parse_dates) \n",
    "renkodf.head(10)"
   ]
  },
  {
   "cell_type": "code",
   "execution_count": 22,
   "metadata": {},
   "outputs": [
    {
     "data": {
      "text/plain": [
       "id                      int64\n",
       "direction              object\n",
       "start_price           float64\n",
       "close_price           float64\n",
       "start_time     datetime64[ns]\n",
       "close_time     datetime64[ns]\n",
       "decision               object\n",
       "dtype: object"
      ]
     },
     "execution_count": 22,
     "metadata": {},
     "output_type": "execute_result"
    }
   ],
   "source": [
    "renkodf.dtypes"
   ]
  },
  {
   "cell_type": "code",
   "execution_count": 24,
   "metadata": {},
   "outputs": [],
   "source": [
    "import matplotlib.pyplot as plt\n",
    "from mpl_toolkits.mplot3d import Axes3D"
   ]
  },
  {
   "cell_type": "code",
   "execution_count": null,
   "metadata": {},
   "outputs": [],
   "source": []
  }
 ],
 "metadata": {
  "kernelspec": {
   "display_name": "Python 3",
   "language": "python",
   "name": "python3"
  },
  "language_info": {
   "codemirror_mode": {
    "name": "ipython",
    "version": 3
   },
   "file_extension": ".py",
   "mimetype": "text/x-python",
   "name": "python",
   "nbconvert_exporter": "python",
   "pygments_lexer": "ipython3",
   "version": "3.7.3"
  }
 },
 "nbformat": 4,
 "nbformat_minor": 2
}
