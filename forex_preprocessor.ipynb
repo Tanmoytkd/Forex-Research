{
 "cells": [
  {
   "cell_type": "code",
   "execution_count": 1,
   "metadata": {},
   "outputs": [
    {
     "name": "stdout",
     "output_type": "stream",
     "text": [
      "Requirement already satisfied: mysql-connector in c:\\programdata\\anaconda3\\lib\\site-packages (2.2.9)\n"
     ]
    }
   ],
   "source": [
    "!python -m pip install mysql-connector"
   ]
  },
  {
   "cell_type": "code",
   "execution_count": 2,
   "metadata": {},
   "outputs": [],
   "source": [
    "import pandas as pd\n",
    "import mysql.connector"
   ]
  },
  {
   "cell_type": "code",
   "execution_count": 3,
   "metadata": {},
   "outputs": [],
   "source": [
    "# Print iterations progress\n",
    "def printProgressBar (iteration, total, prefix = '', suffix = '', decimals = 1, length = 100, fill = '█'):\n",
    "    \"\"\"\n",
    "    Call in a loop to create terminal progress bar\n",
    "    @params:\n",
    "        iteration   - Required  : current iteration (Int)\n",
    "        total       - Required  : total iterations (Int)\n",
    "        prefix      - Optional  : prefix string (Str)\n",
    "        suffix      - Optional  : suffix string (Str)\n",
    "        decimals    - Optional  : positive number of decimals in percent complete (Int)\n",
    "        length      - Optional  : character length of bar (Int)\n",
    "        fill        - Optional  : bar fill character (Str)\n",
    "    \"\"\"\n",
    "    percent = (\"{0:.\" + str(decimals) + \"f}\").format(100 * (iteration / float(total)))\n",
    "    filledLength = int(length * iteration // total)\n",
    "    bar = fill * filledLength + '-' * (length - filledLength)\n",
    "    print('\\r%s |%s| %s%% %s' % (prefix, bar, percent, suffix), end = '\\r')\n",
    "    # Print New Line on Complete\n",
    "    if iteration == total: \n",
    "        print()"
   ]
  },
  {
   "cell_type": "code",
   "execution_count": 4,
   "metadata": {},
   "outputs": [],
   "source": [
    "db = mysql.connector.connect(\n",
    "    host=\"localhost\",\n",
    "    user=\"root\",\n",
    "    passwd=\"\",\n",
    "    database=\"forex\"\n",
    ")"
   ]
  },
  {
   "cell_type": "code",
   "execution_count": 5,
   "metadata": {},
   "outputs": [
    {
     "name": "stdout",
     "output_type": "stream",
     "text": [
      "Do you want to cleanup EURUSD.csv ?\n",
      "Please enter yes or no: no\n"
     ]
    }
   ],
   "source": [
    "import os\n",
    "\n",
    "def ask_user(msg):\n",
    "    print(msg)\n",
    "    response = ''\n",
    "    while response.lower() not in {\"yes\", \"no\"}:\n",
    "        response = input(\"Please enter yes or no: \")\n",
    "    return response.lower() == \"yes\"\n",
    "\n",
    "def cleanup_file(input_file_name, output_file_name):\n",
    "    head_sample = 'Timestamp,Bid price\\n'\n",
    "    row_sample = '2012-01-01 22:00:36.416,1.29368\\n'\n",
    "\n",
    "    with open(input_file_name) as fin, open(output_file_name, 'a') as fout:\n",
    "\n",
    "        for index, line in enumerate(fin):\n",
    "            if index==0:\n",
    "                fout.write(line)\n",
    "                continue\n",
    "\n",
    "            if len(line) < len(row_sample):\n",
    "                characters_needed = len(row_sample) - len(line)\n",
    "                line = line[:-1] + '0'*characters_needed + '\\n'\n",
    "\n",
    "            fout.write(line)\n",
    "\n",
    "input_file_name = 'TickStory/EURUSD.csv'\n",
    "output_file_name = 'TickStory/clean/EURUSD.csv'\n",
    "\n",
    "if ask_user(\"Do you want to cleanup EURUSD.csv ?\"):\n",
    "    cleanup_file(input_file_name, output_file_name)"
   ]
  },
  {
   "cell_type": "code",
   "execution_count": 6,
   "metadata": {},
   "outputs": [],
   "source": [
    "# file_name = 'TickStory/clean/EURUSD.csv'\n",
    "\n",
    "# import time\n",
    "# start = time.time()\n",
    "\n",
    "# with open(file_name) as f:\n",
    "#     total_line_count = sum(1 for line in f)\n",
    "    \n",
    "# print(total_line_count, \"lines\")\n",
    "\n",
    "# end = time.time()\n",
    "# print(\"Time Taken: \", end - start)"
   ]
  },
  {
   "cell_type": "code",
   "execution_count": 7,
   "metadata": {},
   "outputs": [
    {
     "name": "stdout",
     "output_type": "stream",
     "text": [
      "total rows count:  194760745\n"
     ]
    }
   ],
   "source": [
    "import os\n",
    "\n",
    "file_name = 'TickStory/clean/EURUSD.csv'\n",
    "\n",
    "with open(file_name) as f:\n",
    "    head = f.readline()\n",
    "    row = f.readline()\n",
    "\n",
    "file_size = os.path.getsize(file_name)\n",
    "\n",
    "dividant = file_size - len(head)-1 #one negated for /r in the first line\n",
    "divider = len(row)+1 #one added for /r in each line\n",
    "\n",
    "total_line_count = dividant//divider\n",
    "print(\"total rows count: \", total_line_count)"
   ]
  },
  {
   "cell_type": "code",
   "execution_count": 8,
   "metadata": {},
   "outputs": [
    {
     "name": "stdout",
     "output_type": "stream",
     "text": [
      "19477\n"
     ]
    }
   ],
   "source": [
    "with open(\"semaphore.txt\") as semaphore:\n",
    "    write_count = semaphore.read()\n",
    "    write_count = 0 if write_count == '' else int(write_count)\n",
    "    print(write_count)"
   ]
  },
  {
   "cell_type": "code",
   "execution_count": 9,
   "metadata": {},
   "outputs": [
    {
     "name": "stdout",
     "output_type": "stream",
     "text": [
      "Do you want to load EURUSD.csv to the mysql database?\n",
      "Please enter yes or no: no\n"
     ]
    }
   ],
   "source": [
    "def load_ticks_to_mysql():\n",
    "    chunksize = 10000\n",
    "    eurusd_ticks = pd.read_csv(file_name, chunksize=chunksize)\n",
    "\n",
    "    with open(\"semaphore.txt\") as semaphore:\n",
    "        write_count = semaphore.read()\n",
    "        write_count = 0 if write_count == '' else int(write_count)\n",
    "\n",
    "    for index, tick in enumerate(eurusd_ticks):\n",
    "        timestamps = tick['Timestamp'].tolist()\n",
    "        prices = tick['Bid price'].tolist()\n",
    "\n",
    "        if index >= write_count:\n",
    "            sql = \"INSERT INTO price (price, timestamp) VALUES (%s, %s)\"\n",
    "            values = []\n",
    "\n",
    "            for (timestamp, price) in zip(timestamps, prices):\n",
    "                values.append( (round(price, 5), timestamp) )\n",
    "\n",
    "            mycursor = db.cursor(prepared=True)\n",
    "            mycursor.executemany(sql, values)\n",
    "            db.commit()\n",
    "            mycursor.close()\n",
    "\n",
    "            with open(\"semaphore.txt\",  \"w+\") as semaphore:\n",
    "                semaphore.write(str(index+1))\n",
    "\n",
    "        suffix = \"(\" + str(index*chunksize) + \"/\" + str(total_line_count) + \")\"\n",
    "        printProgressBar(index*chunksize, total_line_count, \"progress: \", suffix)\n",
    "        \n",
    "if ask_user(\"Do you want to load EURUSD.csv to the mysql database?\"):\n",
    "    load_ticks_to_mysql()\n"
   ]
  },
  {
   "cell_type": "markdown",
   "metadata": {},
   "source": [
    "**SQL Query:**\n",
    "```\n",
    "(SELECT * FROM `price` AS p WHERE p.timestamp>='2012-01-11 08:52:46' AND p.price >= (1.2773+0.0050) ORDER BY timestamp ASC LIMIT 1)\n",
    "UNION\n",
    "(SELECT * FROM `price` AS p WHERE p.timestamp>='2012-01-11 08:52:46' AND p.price <= (1.2773-0.0050) ORDER BY timestamp ASC LIMIT 1)\n",
    "```"
   ]
  }
 ],
 "metadata": {
  "kernelspec": {
   "display_name": "Python 3",
   "language": "python",
   "name": "python3"
  },
  "language_info": {
   "codemirror_mode": {
    "name": "ipython",
    "version": 3
   },
   "file_extension": ".py",
   "mimetype": "text/x-python",
   "name": "python",
   "nbconvert_exporter": "python",
   "pygments_lexer": "ipython3",
   "version": "3.7.3"
  }
 },
 "nbformat": 4,
 "nbformat_minor": 2
}
