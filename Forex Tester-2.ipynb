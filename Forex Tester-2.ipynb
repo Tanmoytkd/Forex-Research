{
 "cells": [
  {
   "cell_type": "code",
   "execution_count": 1,
   "metadata": {},
   "outputs": [
    {
     "name": "stdout",
     "output_type": "stream",
     "text": [
      "Requirement already satisfied: sqlalchemy in c:\\programdata\\anaconda3\\lib\\site-packages (1.3.1)\n",
      "Requirement already satisfied: mysqlclient in c:\\programdata\\anaconda3\\lib\\site-packages (1.4.4)\n"
     ]
    }
   ],
   "source": [
    "!pip install sqlalchemy\n",
    "!pip install mysqlclient"
   ]
  },
  {
   "cell_type": "code",
   "execution_count": 2,
   "metadata": {},
   "outputs": [],
   "source": [
    "import sqlalchemy as db2\n",
    "engine = db2.create_engine('mysql://root@localhost/forex')\n",
    "connection = engine.connect()\n",
    "metadata = db2.MetaData()\n",
    "renko = db2.Table('renko', metadata, autoload=True, autoload_with=engine)\n",
    "state_table = db2.Table('state', metadata, autoload=True, autoload_with=engine)\n",
    "# print(price.columns.keys())"
   ]
  },
  {
   "cell_type": "code",
   "execution_count": 3,
   "metadata": {},
   "outputs": [
    {
     "name": "stdout",
     "output_type": "stream",
     "text": [
      "total rows count:  194760745\n"
     ]
    }
   ],
   "source": [
    "import os\n",
    "\n",
    "file_name = 'TickStory/clean/EURUSD.csv'\n",
    "\n",
    "with open(file_name) as f:\n",
    "    head = f.readline()\n",
    "    row = f.readline()\n",
    "\n",
    "file_size = os.path.getsize(file_name)\n",
    "\n",
    "dividant = file_size - len(head)-1 #one negated for /r in the first line\n",
    "divider = len(row)+1 #one added for /r in each line\n",
    "\n",
    "total_line_count = dividant//divider\n",
    "print(\"total rows count: \", total_line_count)"
   ]
  },
  {
   "cell_type": "code",
   "execution_count": 4,
   "metadata": {},
   "outputs": [
    {
     "name": "stdout",
     "output_type": "stream",
     "text": [
      "<mysql.connector.connection.MySQLConnection object at 0x000001F675118DA0>\n"
     ]
    }
   ],
   "source": [
    "import mysql.connector\n",
    "\n",
    "db = mysql.connector.connect(\n",
    "    host=\"localhost\",\n",
    "    user=\"root\",\n",
    "    passwd=\"\",\n",
    "    database=\"forex\"\n",
    ")\n",
    "\n",
    "print(db) "
   ]
  },
  {
   "cell_type": "code",
   "execution_count": 5,
   "metadata": {},
   "outputs": [],
   "source": [
    "def ask_user(msg):\n",
    "    print(msg)\n",
    "    response = ''\n",
    "    while response.lower() not in {\"yes\", \"no\"}:\n",
    "        response = input(\"Please enter yes or no: \")\n",
    "    return response.lower() == \"yes\""
   ]
  },
  {
   "cell_type": "code",
   "execution_count": 6,
   "metadata": {},
   "outputs": [],
   "source": [
    "import datetime\n",
    "import json\n",
    "\n",
    "class Chart:\n",
    "\n",
    "    def __init__(self, brick_size=0.0025, brick_price=None, previous_timestamp=None, previous_brick_timestamp=None, crossover_brick=False):\n",
    "        self.brick_size = brick_size\n",
    "        self.brick_price = brick_price\n",
    "        self.previous_timestamp = previous_timestamp\n",
    "        self.previous_brick_timestamp = previous_brick_timestamp\n",
    "        self.crossover_brick = crossover_brick\n",
    "\n",
    "    def feed(self, id, price, timestamp):\n",
    "        new_brick = False\n",
    "        price = round(price, 5)\n",
    "        self.previous_timestamp = timestamp if self.previous_timestamp is None else self.previous_timestamp\n",
    "        self.previous_brick_timestamp = timestamp if self.previous_brick_timestamp is None else self.previous_brick_timestamp\n",
    "\n",
    "        self.brick_price = price if self.brick_price is None else self.brick_price\n",
    "\n",
    "        time_difference_between_ticks = timestamp - self.previous_timestamp\n",
    "        if not time_difference_between_ticks.days == 0:\n",
    "            self.crossover_brick = True\n",
    "        else:\n",
    "            self.crossover_brick = False\n",
    "\n",
    "        while price >= self.brick_price + self.brick_size:\n",
    "            #do something\n",
    "            self.brick_price += self.brick_size\n",
    "            self.brick_price = round(self.brick_price, 5)\n",
    "            values = [{'direction':'up',\n",
    "                       'start_price': round(self.brick_price - self.brick_size, 5),\n",
    "                       'close_price': self.brick_price,\n",
    "                       'start_time': self.previous_brick_timestamp, \n",
    "                       'close_time': timestamp}]\n",
    "            query = db2.insert(renko)\n",
    "            connection.execute(query,values)\n",
    "            self.previous_brick_timestamp = timestamp\n",
    "            print(\"up\", self.brick_price, timestamp, self.crossover_brick)\n",
    "            new_brick = True\n",
    "\n",
    "        while price <= self.brick_price - self.brick_size:\n",
    "            #do something\n",
    "            self.brick_price -= self.brick_size\n",
    "            self.brick_price = round(self.brick_price, 5)\n",
    "            values = [{'direction':'down',\n",
    "                       'start_price': round(self.brick_price + self.brick_size, 5),\n",
    "                       'close_price': self.brick_price,\n",
    "                       'start_time': self.previous_brick_timestamp, \n",
    "                       'close_time': timestamp}]\n",
    "            query = db2.insert(renko)\n",
    "            connection.execute(query,values)\n",
    "            self.previous_brick_timestamp = timestamp\n",
    "            print(\"down\", self.brick_price, timestamp, self.crossover_brick)\n",
    "            new_brick = True\n",
    "        \n",
    "        if new_brick==True:\n",
    "            connection.execute(db2.delete(state_table))\n",
    "            state = [{\n",
    "                'id': id,\n",
    "                'brick_size': self.brick_size,\n",
    "                'brick_price': self.brick_price,\n",
    "                'previous_timestamp': self.previous_timestamp,\n",
    "                'previous_brick_timestamp': self.previous_brick_timestamp,\n",
    "                'crossover_brick': self.crossover_brick\n",
    "            }]\n",
    "            connection.execute(db2.insert(state_table), state)\n",
    "\n",
    "\n",
    "        self.previous_timestamp = timestamp"
   ]
  },
  {
   "cell_type": "code",
   "execution_count": 7,
   "metadata": {},
   "outputs": [],
   "source": [
    "import datetime\n",
    "# help(datetime.timedelta)"
   ]
  },
  {
   "cell_type": "code",
   "execution_count": 8,
   "metadata": {},
   "outputs": [
    {
     "name": "stdout",
     "output_type": "stream",
     "text": [
      "starting from 194757845\n"
     ]
    }
   ],
   "source": [
    "import sys\n",
    "\n",
    "stateData = connection.execute(db2.select([state_table])).fetchall()\n",
    "\n",
    "if len(stateData)==0:\n",
    "    id=0\n",
    "    chart = Chart()    \n",
    "else:\n",
    "    row = stateData[0]\n",
    "    id=row[0]\n",
    "    chart = Chart(brick_size=row[1], brick_price=row[2], previous_timestamp=row[3], previous_brick_timestamp=row[4], crossover_brick=row[5])\n",
    "\n",
    "print(\"starting from {}\".format(id))\n",
    "\n",
    "none_counter = None\n",
    "\n",
    "while id < total_line_count+1:\n",
    "    id+=1\n",
    "    sql = \"SELECT * FROM price WHERE id = %s\"\n",
    "    cursor = db.cursor()\n",
    "    cursor.execute(sql, (id, ) )\n",
    "    row = cursor.fetchone()\n",
    "    cursor.close()\n",
    "    \n",
    "    if row is None:\n",
    "        if none_counter is None:\n",
    "            none_counter = id\n",
    "        continue\n",
    "    elif not none_counter is None:\n",
    "        print (\"{} - {}\".format(none_counter, id-1))\n",
    "        none_counter = None\n",
    "    \n",
    "    price = row[1]\n",
    "    timestamp = row[2]\n",
    "    \n",
    "#     print('\\r{} {}'.format(price, timestamp), end=' ')\n",
    "#     print('{} {}\\r'.format(price, timestamp), end='')\n",
    "    chart.feed(id, price, timestamp)\n",
    "    "
   ]
  }
 ],
 "metadata": {
  "kernelspec": {
   "display_name": "Python 3",
   "language": "python",
   "name": "python3"
  },
  "language_info": {
   "codemirror_mode": {
    "name": "ipython",
    "version": 3
   },
   "file_extension": ".py",
   "mimetype": "text/x-python",
   "name": "python",
   "nbconvert_exporter": "python",
   "pygments_lexer": "ipython3",
   "version": "3.7.3"
  }
 },
 "nbformat": 4,
 "nbformat_minor": 2
}
